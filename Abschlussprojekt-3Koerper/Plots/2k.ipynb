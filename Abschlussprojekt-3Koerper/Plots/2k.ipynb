{
 "cells": [
  {
   "cell_type": "code",
   "execution_count": 17,
   "metadata": {},
   "outputs": [],
   "source": [
    "import matplotlib.pyplot as plt \n",
    "import matplotlib.animation as animation \n",
    "import numpy as np \n",
    "import pandas as pd"
   ]
  },
  {
   "cell_type": "code",
   "execution_count": 18,
   "metadata": {},
   "outputs": [
    {
     "data": {
      "text/html": [
       "<div>\n",
       "<style scoped>\n",
       "    .dataframe tbody tr th:only-of-type {\n",
       "        vertical-align: middle;\n",
       "    }\n",
       "\n",
       "    .dataframe tbody tr th {\n",
       "        vertical-align: top;\n",
       "    }\n",
       "\n",
       "    .dataframe thead th {\n",
       "        text-align: right;\n",
       "    }\n",
       "</style>\n",
       "<table border=\"1\" class=\"dataframe\">\n",
       "  <thead>\n",
       "    <tr style=\"text-align: right;\">\n",
       "      <th></th>\n",
       "      <th>x1</th>\n",
       "      <th>y1</th>\n",
       "      <th>x2</th>\n",
       "      <th>y2</th>\n",
       "      <th>t</th>\n",
       "      <th>r</th>\n",
       "      <th>E</th>\n",
       "    </tr>\n",
       "  </thead>\n",
       "  <tbody>\n",
       "    <tr>\n",
       "      <th>0</th>\n",
       "      <td>1.00000</td>\n",
       "      <td>2.00000</td>\n",
       "      <td>2.00000</td>\n",
       "      <td>-1.000000</td>\n",
       "      <td>0.000</td>\n",
       "      <td>3.16228</td>\n",
       "      <td>8.300303e-322</td>\n",
       "    </tr>\n",
       "    <tr>\n",
       "      <th>1</th>\n",
       "      <td>1.00000</td>\n",
       "      <td>2.00000</td>\n",
       "      <td>2.00000</td>\n",
       "      <td>-0.999500</td>\n",
       "      <td>0.001</td>\n",
       "      <td>3.16180</td>\n",
       "      <td>8.300303e-322</td>\n",
       "    </tr>\n",
       "    <tr>\n",
       "      <th>2</th>\n",
       "      <td>1.00000</td>\n",
       "      <td>2.00000</td>\n",
       "      <td>2.00000</td>\n",
       "      <td>-0.998999</td>\n",
       "      <td>0.002</td>\n",
       "      <td>3.16133</td>\n",
       "      <td>8.300303e-322</td>\n",
       "    </tr>\n",
       "    <tr>\n",
       "      <th>3</th>\n",
       "      <td>1.00000</td>\n",
       "      <td>2.00000</td>\n",
       "      <td>2.00000</td>\n",
       "      <td>-0.998498</td>\n",
       "      <td>0.003</td>\n",
       "      <td>3.16085</td>\n",
       "      <td>8.300303e-322</td>\n",
       "    </tr>\n",
       "    <tr>\n",
       "      <th>4</th>\n",
       "      <td>1.00000</td>\n",
       "      <td>2.00000</td>\n",
       "      <td>2.00000</td>\n",
       "      <td>-0.997996</td>\n",
       "      <td>0.004</td>\n",
       "      <td>3.16037</td>\n",
       "      <td>8.300303e-322</td>\n",
       "    </tr>\n",
       "    <tr>\n",
       "      <th>...</th>\n",
       "      <td>...</td>\n",
       "      <td>...</td>\n",
       "      <td>...</td>\n",
       "      <td>...</td>\n",
       "      <td>...</td>\n",
       "      <td>...</td>\n",
       "      <td>...</td>\n",
       "    </tr>\n",
       "    <tr>\n",
       "      <th>9996</th>\n",
       "      <td>-5.00289</td>\n",
       "      <td>-2.58016</td>\n",
       "      <td>9.50361</td>\n",
       "      <td>9.723210</td>\n",
       "      <td>9.996</td>\n",
       "      <td>19.02130</td>\n",
       "      <td>8.300303e-322</td>\n",
       "    </tr>\n",
       "    <tr>\n",
       "      <th>9997</th>\n",
       "      <td>-5.00365</td>\n",
       "      <td>-2.58060</td>\n",
       "      <td>9.50456</td>\n",
       "      <td>9.724260</td>\n",
       "      <td>9.997</td>\n",
       "      <td>19.02360</td>\n",
       "      <td>8.300303e-322</td>\n",
       "    </tr>\n",
       "    <tr>\n",
       "      <th>9998</th>\n",
       "      <td>-5.00441</td>\n",
       "      <td>-2.58104</td>\n",
       "      <td>9.50552</td>\n",
       "      <td>9.725300</td>\n",
       "      <td>9.998</td>\n",
       "      <td>19.02590</td>\n",
       "      <td>8.300303e-322</td>\n",
       "    </tr>\n",
       "    <tr>\n",
       "      <th>9999</th>\n",
       "      <td>-5.00518</td>\n",
       "      <td>-2.58148</td>\n",
       "      <td>9.50647</td>\n",
       "      <td>9.726350</td>\n",
       "      <td>9.999</td>\n",
       "      <td>19.02820</td>\n",
       "      <td>8.300303e-322</td>\n",
       "    </tr>\n",
       "    <tr>\n",
       "      <th>10000</th>\n",
       "      <td>-5.00594</td>\n",
       "      <td>-2.58192</td>\n",
       "      <td>9.50742</td>\n",
       "      <td>9.727400</td>\n",
       "      <td>10.000</td>\n",
       "      <td>19.03040</td>\n",
       "      <td>8.300303e-322</td>\n",
       "    </tr>\n",
       "  </tbody>\n",
       "</table>\n",
       "<p>10001 rows × 7 columns</p>\n",
       "</div>"
      ],
      "text/plain": [
       "            x1       y1       x2        y2       t         r              E\n",
       "0      1.00000  2.00000  2.00000 -1.000000   0.000   3.16228  8.300303e-322\n",
       "1      1.00000  2.00000  2.00000 -0.999500   0.001   3.16180  8.300303e-322\n",
       "2      1.00000  2.00000  2.00000 -0.998999   0.002   3.16133  8.300303e-322\n",
       "3      1.00000  2.00000  2.00000 -0.998498   0.003   3.16085  8.300303e-322\n",
       "4      1.00000  2.00000  2.00000 -0.997996   0.004   3.16037  8.300303e-322\n",
       "...        ...      ...      ...       ...     ...       ...            ...\n",
       "9996  -5.00289 -2.58016  9.50361  9.723210   9.996  19.02130  8.300303e-322\n",
       "9997  -5.00365 -2.58060  9.50456  9.724260   9.997  19.02360  8.300303e-322\n",
       "9998  -5.00441 -2.58104  9.50552  9.725300   9.998  19.02590  8.300303e-322\n",
       "9999  -5.00518 -2.58148  9.50647  9.726350   9.999  19.02820  8.300303e-322\n",
       "10000 -5.00594 -2.58192  9.50742  9.727400  10.000  19.03040  8.300303e-322\n",
       "\n",
       "[10001 rows x 7 columns]"
      ]
     },
     "execution_count": 18,
     "metadata": {},
     "output_type": "execute_result"
    }
   ],
   "source": [
    "df=pd.read_csv('../2k.dat',sep=' ')\n",
    "df"
   ]
  },
  {
   "cell_type": "code",
   "execution_count": 19,
   "metadata": {},
   "outputs": [
    {
     "data": {
      "text/plain": [
       "(0.0, 2.0)"
      ]
     },
     "execution_count": 19,
     "metadata": {},
     "output_type": "execute_result"
    },
    {
     "data": {
      "image/png": "[encoded data removed]",
      "text/plain": [
       "<Figure size 432x288 with 1 Axes>"
      ]
     },
     "metadata": {},
     "output_type": "display_data"
    }
   ],
   "source": [
    "plt.style.use('dark_background')\n",
    "plt.plot(df['x1'],df['y1'])\n",
    "plt.plot(df['x2'],df['y2'])\n",
    "plt.savefig('planet2.svg')\n",
    "\n",
    "axes = plt.gca()\n",
    "axes.set_xlim(1,2)\n",
    "axes.set_ylim(0,2)"
   ]
  },
  {
   "cell_type": "code",
   "execution_count": 20,
   "metadata": {},
   "outputs": [],
   "source": [
    "# initialization function \n",
    "def init(): \n",
    "\t# creating an empty plot/frame \n",
    "\tline1.set_data([], []) \n",
    "\tline2.set_data([], []) \n",
    "\tpoints.set_data([], [])\n",
    "\treturn line1, line2, points\n",
    "\n",
    "# animation function \n",
    "def animate(i): \n",
    "\tk = 10*i\n",
    "\t# x, y values to be plotted \n",
    "\tx1 = df['x1'][k]\n",
    "\ty1 = df['y1'][k]\n",
    "\tx2 = df['x2'][k]\n",
    "\ty2 = df['y2'][k]\n",
    "\t\n",
    "\t# appending new points to x, y axes points list \n",
    "\tx1data.append(x1) \n",
    "\ty1data.append(y1)\n",
    "\tx2data.append(x2)\n",
    "\ty2data.append(y2)\n",
    "\n",
    "\tline1.set_data(x1data, y1data) \n",
    "\tline2.set_data(x2data, y2data)\n",
    "\tpoints.set_data([x1,x2], [y1,y2])\n",
    "\treturn line1, line2 , points"
   ]
  },
  {
   "cell_type": "code",
   "execution_count": 21,
   "metadata": {},
   "outputs": [
    {
     "data": {
      "image/png": "[encoded data removed]",
      "text/plain": [
       "<Figure size 432x288 with 1 Axes>"
      ]
     },
     "metadata": {},
     "output_type": "display_data"
    }
   ],
   "source": [
    "plt.style.use('dark_background')\n",
    "\n",
    "# lists to store x and y axis points \n",
    "x1data, y1data, x2data, y2data = [], [], [], [] \n",
    "\n",
    "fig = plt.figure() \n",
    "ax = plt.axes(xlim=(1,2), ylim=(0,2)) \n",
    "line1, = ax.plot([], []) \n",
    "line2, = ax.plot([], []) \n",
    "points, = ax.plot([], [], 'o')\n",
    "\n",
    "# setting a title for the plot \n",
    "# plt.title('Creating a growing coil with matplotlib!') \n",
    "# hiding the axis details \n",
    "plt.axis('off') \n",
    "\n",
    "# call the animator\t \n",
    "anim = animation.FuncAnimation(fig, animate,  init_func=init,\n",
    "\t\t\t\t\t\t\tframes=1000, interval=20, blit=True) \n",
    "\n",
    "# save the animation as mp4 video file \n",
    "anim.save('planet2.gif',writer='imagemagick') "
   ]
  }
 ],
 "metadata": {
  "kernelspec": {
   "display_name": "Python 3.10.5 64-bit",
   "language": "python",
   "name": "python3"
  },
  "language_info": {
   "codemirror_mode": {
    "name": "ipython",
    "version": 3
   },
   "file_extension": ".py",
   "mimetype": "text/x-python",
   "name": "python",
   "nbconvert_exporter": "python",
   "pygments_lexer": "ipython3",
   "version": "3.10.5"
  },
  "orig_nbformat": 4,
  "vscode": {
   "interpreter": {
    "hash": "e7370f93d1d0cde622a1f8e1c04877d8463912d04d973331ad4851f04de6915a"
   }
  }
 },
 "nbformat": 4,
 "nbformat_minor": 2
}
