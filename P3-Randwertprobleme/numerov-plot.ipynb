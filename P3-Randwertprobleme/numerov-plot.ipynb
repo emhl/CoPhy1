{
 "cells": [
  {
   "cell_type": "code",
   "execution_count": 1,
   "id": "3915c685-ecc0-4ea7-a3a3-a06f202fb20c",
   "metadata": {},
   "outputs": [],
   "source": [
    "import matplotlib.pyplot as plt\n",
    "import pandas as pd"
   ]
  },
  {
   "cell_type": "code",
   "execution_count": 2,
   "id": "6d114a7f-8564-46e1-b7fd-5a83f0a3c674",
   "metadata": {},
   "outputs": [
    {
     "data": {
      "text/html": [
       "<div>\n",
       "<style scoped>\n",
       "    .dataframe tbody tr th:only-of-type {\n",
       "        vertical-align: middle;\n",
       "    }\n",
       "\n",
       "    .dataframe tbody tr th {\n",
       "        vertical-align: top;\n",
       "    }\n",
       "\n",
       "    .dataframe thead th {\n",
       "        text-align: right;\n",
       "    }\n",
       "</style>\n",
       "<table border=\"1\" class=\"dataframe\">\n",
       "  <thead>\n",
       "    <tr style=\"text-align: right;\">\n",
       "      <th></th>\n",
       "      <th>0</th>\n",
       "      <th>1</th>\n",
       "      <th>2</th>\n",
       "      <th>3</th>\n",
       "      <th>4</th>\n",
       "    </tr>\n",
       "  </thead>\n",
       "  <tbody>\n",
       "    <tr>\n",
       "      <th>0</th>\n",
       "      <td>0.001</td>\n",
       "      <td>0.000497</td>\n",
       "      <td>0.497359</td>\n",
       "      <td>0.000497</td>\n",
       "      <td>0.497359</td>\n",
       "    </tr>\n",
       "    <tr>\n",
       "      <th>1</th>\n",
       "      <td>0.002</td>\n",
       "      <td>0.000995</td>\n",
       "      <td>0.497359</td>\n",
       "      <td>0.000995</td>\n",
       "      <td>0.497359</td>\n",
       "    </tr>\n",
       "    <tr>\n",
       "      <th>2</th>\n",
       "      <td>0.003</td>\n",
       "      <td>0.001492</td>\n",
       "      <td>0.497358</td>\n",
       "      <td>0.001492</td>\n",
       "      <td>0.497358</td>\n",
       "    </tr>\n",
       "    <tr>\n",
       "      <th>3</th>\n",
       "      <td>0.004</td>\n",
       "      <td>0.001989</td>\n",
       "      <td>0.497358</td>\n",
       "      <td>0.001989</td>\n",
       "      <td>0.497358</td>\n",
       "    </tr>\n",
       "    <tr>\n",
       "      <th>4</th>\n",
       "      <td>0.005</td>\n",
       "      <td>0.002487</td>\n",
       "      <td>0.497357</td>\n",
       "      <td>0.002487</td>\n",
       "      <td>0.497357</td>\n",
       "    </tr>\n",
       "    <tr>\n",
       "      <th>...</th>\n",
       "      <td>...</td>\n",
       "      <td>...</td>\n",
       "      <td>...</td>\n",
       "      <td>...</td>\n",
       "      <td>...</td>\n",
       "    </tr>\n",
       "    <tr>\n",
       "      <th>19994</th>\n",
       "      <td>19.995</td>\n",
       "      <td>0.994718</td>\n",
       "      <td>0.049748</td>\n",
       "      <td>0.994718</td>\n",
       "      <td>0.049748</td>\n",
       "    </tr>\n",
       "    <tr>\n",
       "      <th>19995</th>\n",
       "      <td>19.996</td>\n",
       "      <td>0.994718</td>\n",
       "      <td>0.049746</td>\n",
       "      <td>0.994718</td>\n",
       "      <td>0.049746</td>\n",
       "    </tr>\n",
       "    <tr>\n",
       "      <th>19996</th>\n",
       "      <td>19.997</td>\n",
       "      <td>0.994718</td>\n",
       "      <td>0.049743</td>\n",
       "      <td>0.994718</td>\n",
       "      <td>0.049743</td>\n",
       "    </tr>\n",
       "    <tr>\n",
       "      <th>19997</th>\n",
       "      <td>19.998</td>\n",
       "      <td>0.994718</td>\n",
       "      <td>0.049741</td>\n",
       "      <td>0.994718</td>\n",
       "      <td>0.049741</td>\n",
       "    </tr>\n",
       "    <tr>\n",
       "      <th>19998</th>\n",
       "      <td>19.999</td>\n",
       "      <td>0.994718</td>\n",
       "      <td>0.049738</td>\n",
       "      <td>0.994718</td>\n",
       "      <td>0.049738</td>\n",
       "    </tr>\n",
       "  </tbody>\n",
       "</table>\n",
       "<p>19999 rows × 5 columns</p>\n",
       "</div>"
      ],
      "text/plain": [
       "            0         1         2         3         4\n",
       "0       0.001  0.000497  0.497359  0.000497  0.497359\n",
       "1       0.002  0.000995  0.497359  0.000995  0.497359\n",
       "2       0.003  0.001492  0.497358  0.001492  0.497358\n",
       "3       0.004  0.001989  0.497358  0.001989  0.497358\n",
       "4       0.005  0.002487  0.497357  0.002487  0.497357\n",
       "...       ...       ...       ...       ...       ...\n",
       "19994  19.995  0.994718  0.049748  0.994718  0.049748\n",
       "19995  19.996  0.994718  0.049746  0.994718  0.049746\n",
       "19996  19.997  0.994718  0.049743  0.994718  0.049743\n",
       "19997  19.998  0.994718  0.049741  0.994718  0.049741\n",
       "19998  19.999  0.994718  0.049738  0.994718  0.049738\n",
       "\n",
       "[19999 rows x 5 columns]"
      ]
     },
     "execution_count": 2,
     "metadata": {},
     "output_type": "execute_result"
    }
   ],
   "source": [
    "numerov = pd.read_csv(\"numerov.dat\",sep=' ',decimal=\".\",header=None)\n",
    "numerov"
   ]
  },
  {
   "cell_type": "code",
   "execution_count": 9,
   "id": "518a99b5-7487-421f-a7e8-76d124986303",
   "metadata": {},
   "outputs": [
    {
     "data": {
      "image/png": "[encoded data removed]",
      "text/plain": [
       "<Figure size 432x288 with 1 Axes>"
      ]
     },
     "metadata": {
      "needs_background": "light"
     },
     "output_type": "display_data"
    }
   ],
   "source": [
    "plt.plot(numerov[0],numerov[1],label=\"$\\chi(r)$\")\n",
    "plt.plot(numerov[0],numerov[2],label=r\"$\\phi(r)$\")\n",
    "plt.plot(numerov[0],numerov[3],label=\"$\\chi(r)$ analytisch\",ls=(0, (4, 6)))\n",
    "plt.plot(numerov[0],numerov[4],label=r\"$\\phi(r)$ analytisch\",ls=(0, (4, 6)))\n",
    "plt.legend()\n",
    "plt.savefig(\"numerov.png\")"
   ]
  }
 ],
 "metadata": {
  "kernelspec": {
   "display_name": "Python 3 (ipykernel)",
   "language": "python",
   "name": "python3"
  },
  "language_info": {
   "codemirror_mode": {
    "name": "ipython",
    "version": 3
   },
   "file_extension": ".py",
   "mimetype": "text/x-python",
   "name": "python",
   "nbconvert_exporter": "python",
   "pygments_lexer": "ipython3",
   "version": "3.10.5"
  }
 },
 "nbformat": 4,
 "nbformat_minor": 5
}
