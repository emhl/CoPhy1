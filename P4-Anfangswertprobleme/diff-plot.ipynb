{
 "cells": [
  {
   "cell_type": "code",
   "execution_count": 2,
   "id": "c147bdc5-7866-4396-938e-4d2e203e22ce",
   "metadata": {},
   "outputs": [],
   "source": [
    "import pandas as pd\n",
    "import plotly.express as px"
   ]
  },
  {
   "cell_type": "code",
   "execution_count": 3,
   "id": "8dc8c601-ca29-44bf-86c7-944726317e10",
   "metadata": {},
   "outputs": [
    {
     "data": {
      "text/html": [
       "<div>\n",
       "<style scoped>\n",
       "    .dataframe tbody tr th:only-of-type {\n",
       "        vertical-align: middle;\n",
       "    }\n",
       "\n",
       "    .dataframe tbody tr th {\n",
       "        vertical-align: top;\n",
       "    }\n",
       "\n",
       "    .dataframe thead th {\n",
       "        text-align: right;\n",
       "    }\n",
       "</style>\n",
       "<table border=\"1\" class=\"dataframe\">\n",
       "  <thead>\n",
       "    <tr style=\"text-align: right;\">\n",
       "      <th></th>\n",
       "      <th>x</th>\n",
       "      <th>t</th>\n",
       "      <th>phi</th>\n",
       "      <th>Unnamed: 3</th>\n",
       "    </tr>\n",
       "  </thead>\n",
       "  <tbody>\n",
       "    <tr>\n",
       "      <th>0</th>\n",
       "      <td>-2.000</td>\n",
       "      <td>0.0</td>\n",
       "      <td>0.000000e+00</td>\n",
       "      <td>NaN</td>\n",
       "    </tr>\n",
       "    <tr>\n",
       "      <th>1</th>\n",
       "      <td>-1.995</td>\n",
       "      <td>0.0</td>\n",
       "      <td>0.000000e+00</td>\n",
       "      <td>NaN</td>\n",
       "    </tr>\n",
       "    <tr>\n",
       "      <th>2</th>\n",
       "      <td>-1.990</td>\n",
       "      <td>0.0</td>\n",
       "      <td>0.000000e+00</td>\n",
       "      <td>NaN</td>\n",
       "    </tr>\n",
       "    <tr>\n",
       "      <th>3</th>\n",
       "      <td>-1.985</td>\n",
       "      <td>0.0</td>\n",
       "      <td>0.000000e+00</td>\n",
       "      <td>NaN</td>\n",
       "    </tr>\n",
       "    <tr>\n",
       "      <th>4</th>\n",
       "      <td>-1.980</td>\n",
       "      <td>0.0</td>\n",
       "      <td>0.000000e+00</td>\n",
       "      <td>NaN</td>\n",
       "    </tr>\n",
       "    <tr>\n",
       "      <th>...</th>\n",
       "      <td>...</td>\n",
       "      <td>...</td>\n",
       "      <td>...</td>\n",
       "      <td>...</td>\n",
       "    </tr>\n",
       "    <tr>\n",
       "      <th>4000995</th>\n",
       "      <td>2.975</td>\n",
       "      <td>20.0</td>\n",
       "      <td>1.388220e-07</td>\n",
       "      <td>NaN</td>\n",
       "    </tr>\n",
       "    <tr>\n",
       "      <th>4000996</th>\n",
       "      <td>2.980</td>\n",
       "      <td>20.0</td>\n",
       "      <td>-1.413690e-07</td>\n",
       "      <td>NaN</td>\n",
       "    </tr>\n",
       "    <tr>\n",
       "      <th>4000997</th>\n",
       "      <td>2.985</td>\n",
       "      <td>20.0</td>\n",
       "      <td>1.405100e-07</td>\n",
       "      <td>NaN</td>\n",
       "    </tr>\n",
       "    <tr>\n",
       "      <th>4000998</th>\n",
       "      <td>2.990</td>\n",
       "      <td>20.0</td>\n",
       "      <td>-1.430640e-07</td>\n",
       "      <td>NaN</td>\n",
       "    </tr>\n",
       "    <tr>\n",
       "      <th>4000999</th>\n",
       "      <td>2.995</td>\n",
       "      <td>20.0</td>\n",
       "      <td>-1.413620e-07</td>\n",
       "      <td>NaN</td>\n",
       "    </tr>\n",
       "  </tbody>\n",
       "</table>\n",
       "<p>4001000 rows × 4 columns</p>\n",
       "</div>"
      ],
      "text/plain": [
       "             x     t           phi  Unnamed: 3\n",
       "0       -2.000   0.0  0.000000e+00         NaN\n",
       "1       -1.995   0.0  0.000000e+00         NaN\n",
       "2       -1.990   0.0  0.000000e+00         NaN\n",
       "3       -1.985   0.0  0.000000e+00         NaN\n",
       "4       -1.980   0.0  0.000000e+00         NaN\n",
       "...        ...   ...           ...         ...\n",
       "4000995  2.975  20.0  1.388220e-07         NaN\n",
       "4000996  2.980  20.0 -1.413690e-07         NaN\n",
       "4000997  2.985  20.0  1.405100e-07         NaN\n",
       "4000998  2.990  20.0 -1.430640e-07         NaN\n",
       "4000999  2.995  20.0 -1.413620e-07         NaN\n",
       "\n",
       "[4001000 rows x 4 columns]"
      ]
     },
     "execution_count": 3,
     "metadata": {},
     "output_type": "execute_result"
    }
   ],
   "source": [
    "df = pd.read_table(\"diff.dat\", sep=\" \",decimal=\".\")\n",
    "df"
   ]
  },
  {
   "cell_type": "code",
   "execution_count": null,
   "id": "f7fa7051-7dc6-460a-a938-5b5681572838",
   "metadata": {},
   "outputs": [],
   "source": [
    "fig = px.density_heatmap(df, x=\"x\", y=\"t\",z=\"phi\")\n",
    "fig.show()"
   ]
  }
 ],
 "metadata": {
  "kernelspec": {
   "display_name": "Python 3.10.5 64-bit",
   "language": "python",
   "name": "python3"
  },
  "language_info": {
   "codemirror_mode": {
    "name": "ipython",
    "version": 3
   },
   "file_extension": ".py",
   "mimetype": "text/x-python",
   "name": "python",
   "nbconvert_exporter": "python",
   "pygments_lexer": "ipython3",
   "version": "3.10.5"
  },
  "vscode": {
   "interpreter": {
    "hash": "e7370f93d1d0cde622a1f8e1c04877d8463912d04d973331ad4851f04de6915a"
   }
  }
 },
 "nbformat": 4,
 "nbformat_minor": 5
}
