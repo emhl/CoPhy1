{
 "cells": [
  {
   "cell_type": "code",
   "execution_count": 1,
   "id": "c147bdc5-7866-4396-938e-4d2e203e22ce",
   "metadata": {},
   "outputs": [],
   "source": [
    "import pandas as pd\n",
    "import plotly.express as px"
   ]
  },
  {
   "cell_type": "code",
   "execution_count": 2,
   "id": "8dc8c601-ca29-44bf-86c7-944726317e10",
   "metadata": {},
   "outputs": [
    {
     "data": {
      "text/html": [
       "<div>\n",
       "<style scoped>\n",
       "    .dataframe tbody tr th:only-of-type {\n",
       "        vertical-align: middle;\n",
       "    }\n",
       "\n",
       "    .dataframe tbody tr th {\n",
       "        vertical-align: top;\n",
       "    }\n",
       "\n",
       "    .dataframe thead th {\n",
       "        text-align: right;\n",
       "    }\n",
       "</style>\n",
       "<table border=\"1\" class=\"dataframe\">\n",
       "  <thead>\n",
       "    <tr style=\"text-align: right;\">\n",
       "      <th></th>\n",
       "      <th>x</th>\n",
       "      <th>t</th>\n",
       "      <th>phi</th>\n",
       "      <th>Unnamed: 3</th>\n",
       "    </tr>\n",
       "  </thead>\n",
       "  <tbody>\n",
       "    <tr>\n",
       "      <th>0</th>\n",
       "      <td>0.000</td>\n",
       "      <td>0.0000</td>\n",
       "      <td>1.918560e-136</td>\n",
       "      <td>NaN</td>\n",
       "    </tr>\n",
       "    <tr>\n",
       "      <th>1</th>\n",
       "      <td>0.001</td>\n",
       "      <td>0.0000</td>\n",
       "      <td>6.688050e-136</td>\n",
       "      <td>NaN</td>\n",
       "    </tr>\n",
       "    <tr>\n",
       "      <th>2</th>\n",
       "      <td>0.002</td>\n",
       "      <td>0.0000</td>\n",
       "      <td>2.325620e-135</td>\n",
       "      <td>NaN</td>\n",
       "    </tr>\n",
       "    <tr>\n",
       "      <th>3</th>\n",
       "      <td>0.003</td>\n",
       "      <td>0.0000</td>\n",
       "      <td>8.066640e-135</td>\n",
       "      <td>NaN</td>\n",
       "    </tr>\n",
       "    <tr>\n",
       "      <th>4</th>\n",
       "      <td>0.004</td>\n",
       "      <td>0.0000</td>\n",
       "      <td>2.791010e-134</td>\n",
       "      <td>NaN</td>\n",
       "    </tr>\n",
       "    <tr>\n",
       "      <th>...</th>\n",
       "      <td>...</td>\n",
       "      <td>...</td>\n",
       "      <td>...</td>\n",
       "      <td>...</td>\n",
       "    </tr>\n",
       "    <tr>\n",
       "      <th>4001995</th>\n",
       "      <td>0.995</td>\n",
       "      <td>2.0005</td>\n",
       "      <td>3.307730e-07</td>\n",
       "      <td>NaN</td>\n",
       "    </tr>\n",
       "    <tr>\n",
       "      <th>4001996</th>\n",
       "      <td>0.996</td>\n",
       "      <td>2.0005</td>\n",
       "      <td>3.277830e-07</td>\n",
       "      <td>NaN</td>\n",
       "    </tr>\n",
       "    <tr>\n",
       "      <th>4001997</th>\n",
       "      <td>0.997</td>\n",
       "      <td>2.0005</td>\n",
       "      <td>3.257920e-07</td>\n",
       "      <td>NaN</td>\n",
       "    </tr>\n",
       "    <tr>\n",
       "      <th>4001998</th>\n",
       "      <td>0.998</td>\n",
       "      <td>2.0005</td>\n",
       "      <td>3.247960e-07</td>\n",
       "      <td>NaN</td>\n",
       "    </tr>\n",
       "    <tr>\n",
       "      <th>4001999</th>\n",
       "      <td>0.999</td>\n",
       "      <td>2.0005</td>\n",
       "      <td>3.238000e-07</td>\n",
       "      <td>NaN</td>\n",
       "    </tr>\n",
       "  </tbody>\n",
       "</table>\n",
       "<p>4002000 rows × 4 columns</p>\n",
       "</div>"
      ],
      "text/plain": [
       "             x       t            phi  Unnamed: 3\n",
       "0        0.000  0.0000  1.918560e-136         NaN\n",
       "1        0.001  0.0000  6.688050e-136         NaN\n",
       "2        0.002  0.0000  2.325620e-135         NaN\n",
       "3        0.003  0.0000  8.066640e-135         NaN\n",
       "4        0.004  0.0000  2.791010e-134         NaN\n",
       "...        ...     ...            ...         ...\n",
       "4001995  0.995  2.0005   3.307730e-07         NaN\n",
       "4001996  0.996  2.0005   3.277830e-07         NaN\n",
       "4001997  0.997  2.0005   3.257920e-07         NaN\n",
       "4001998  0.998  2.0005   3.247960e-07         NaN\n",
       "4001999  0.999  2.0005   3.238000e-07         NaN\n",
       "\n",
       "[4002000 rows x 4 columns]"
      ]
     },
     "execution_count": 2,
     "metadata": {},
     "output_type": "execute_result"
    }
   ],
   "source": [
    "df = pd.read_table(\"diff.dat\", sep=\" \",decimal=\".\")\n",
    "df"
   ]
  },
  {
   "cell_type": "code",
   "execution_count": 3,
   "id": "f7fa7051-7dc6-460a-a938-5b5681572838",
   "metadata": {},
   "outputs": [],
   "source": [
    "fig = px.density_heatmap(df, x=\"x\", y=\"t\",z=\"phi\",nbinsx=100,nbinsy=100,histfunc='max')\n",
    "fig.write_image(\"heatmap.svg\")"
   ]
  }
 ],
 "metadata": {
  "kernelspec": {
   "display_name": "Python 3.10.5 64-bit",
   "language": "python",
   "name": "python3"
  },
  "language_info": {
   "codemirror_mode": {
    "name": "ipython",
    "version": 3
   },
   "file_extension": ".py",
   "mimetype": "text/x-python",
   "name": "python",
   "nbconvert_exporter": "python",
   "pygments_lexer": "ipython3",
   "version": "3.10.5"
  },
  "vscode": {
   "interpreter": {
    "hash": "e7370f93d1d0cde622a1f8e1c04877d8463912d04d973331ad4851f04de6915a"
   }
  }
 },
 "nbformat": 4,
 "nbformat_minor": 5
}
